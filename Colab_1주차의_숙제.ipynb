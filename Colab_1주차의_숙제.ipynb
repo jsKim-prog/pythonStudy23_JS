{
  "nbformat": 4,
  "nbformat_minor": 0,
  "metadata": {
    "colab": {
      "provenance": [],
      "authorship_tag": "ABX9TyOoKtw5pTJ7Pn/MN4KogE8b",
      "include_colab_link": true
    },
    "kernelspec": {
      "name": "python3",
      "display_name": "Python 3"
    },
    "language_info": {
      "name": "python"
    }
  },
  "cells": [
    {
      "cell_type": "markdown",
      "metadata": {
        "id": "view-in-github",
        "colab_type": "text"
      },
      "source": [
        "<a href=\"https://colab.research.google.com/github/jsKim-prog/pythonStudy23_JS/blob/master/Colab_1%EC%A3%BC%EC%B0%A8%EC%9D%98_%EC%88%99%EC%A0%9C.ipynb\" target=\"_parent\"><img src=\"https://colab.research.google.com/assets/colab-badge.svg\" alt=\"Open In Colab\"/></a>"
      ]
    },
    {
      "cell_type": "code",
      "source": [
        "import openpyxl\n",
        "import urllib.request\n",
        "\n",
        "wb = openpyxl.load_workbook('관리종목.xlsx')\n",
        "sheet = wb['종목']\n",
        "\n",
        "new_rows = list(sheet.rows)[1:]\n",
        "\n",
        "for row in new_rows:\n",
        "  img_name = row[1].value\n",
        "  keyword = row[0].value\n",
        "  url = f'https://ssl.pstatic.net/imgfinance/chart/item/area/year3/{img_name}.png'\n",
        "  urllib.request.urlretrieve(url, f\"/content/images/{keyword}.png\")"
      ],
      "metadata": {
        "id": "53qLCthz28pD"
      },
      "execution_count": null,
      "outputs": []
    },
    {
      "cell_type": "code",
      "source": [
        "!zip -r /content/files.zip /content/news"
      ],
      "metadata": {
        "id": "c8phUTDkE4_D"
      },
      "execution_count": null,
      "outputs": []
    }
  ]
}