{
  "nbformat": 4,
  "nbformat_minor": 0,
  "metadata": {
    "colab": {
      "provenance": [],
      "authorship_tag": "ABX9TyN0YtFfNnnawkoAQf51CmbL",
      "include_colab_link": true
    },
    "kernelspec": {
      "name": "python3",
      "display_name": "Python 3"
    },
    "language_info": {
      "name": "python"
    }
  },
  "cells": [
    {
      "cell_type": "markdown",
      "metadata": {
        "id": "view-in-github",
        "colab_type": "text"
      },
      "source": [
        "<a href=\"https://colab.research.google.com/github/jsKim-prog/pythonStudy23_JS/blob/master/Colab_1%EC%A3%BC%EC%B0%A8.ipynb\" target=\"_parent\"><img src=\"https://colab.research.google.com/assets/colab-badge.svg\" alt=\"Open In Colab\"/></a>"
      ]
    },
    {
      "cell_type": "code",
      "execution_count": null,
      "metadata": {
        "id": "gvuMiEQIZ3Vb"
      },
      "outputs": [],
      "source": [
        "pip install bs4 requests"
      ]
    },
    {
      "cell_type": "code",
      "source": [
        "import requests\n",
        "from bs4 import BeautifulSoup\n",
        "\n",
        "from openpyxl import Workbook\n",
        "from datetime import datetime\n",
        "\n",
        "def get_news(keyword):\n",
        "  wb= Workbook()\n",
        "  sheet = wb.active\n",
        "\n",
        "  headers = {'User-Agent' : 'Mozilla/5.0 (Windows NT 10.0; Win64; x64)AppleWebKit/537.36 (KHTML, like Gecko) Chrome/73.0.3683.86 Safari/537.36'}\n",
        "  data = requests.get(f'https://search.naver.com/search.naver?where=news&ie=utf8&sm=nws_hty&query={keyword}',headers=headers)\n",
        "\n",
        "  soup = BeautifulSoup(data.text, 'html.parser')\n",
        "\n",
        "  lis = soup.select('#main_pack > section.sc_new.sp_nnews._prs_nws > div > div.group_news > ul > li')\n",
        "\n",
        "  for li in lis:\n",
        "    a = li.select_one('a.news_tit')\n",
        "    row = [a.text, a['href']]\n",
        "    sheet.append(row)\n",
        "\n",
        "  today = datetime.today().strftime(\"%Y-%m-%d\")\n",
        "\n",
        "  wb.save(f\"news/{today}_{keyword}.xlsx\")\n",
        "  wb.close()"
      ],
      "metadata": {
        "id": "qJvsk6-nkl8e"
      },
      "execution_count": null,
      "outputs": []
    },
    {
      "cell_type": "code",
      "source": [
        "import urllib.request\n",
        "\n",
        "url = 'https://ssl.pstatic.net/imgfinance/chart/item/area/year3/005930.png'\n",
        "urllib.request.urlretrieve(url, \"삼성전자.png\")"
      ],
      "metadata": {
        "colab": {
          "base_uri": "https://localhost:8080/"
        },
        "id": "53qLCthz28pD",
        "outputId": "cf82bde2-f8d2-4b09-b24f-70e94bf010ac"
      },
      "execution_count": null,
      "outputs": [
        {
          "output_type": "execute_result",
          "data": {
            "text/plain": [
              "('삼성전자.png', <http.client.HTTPMessage at 0x78a3493c2530>)"
            ]
          },
          "metadata": {},
          "execution_count": 45
        }
      ]
    },
    {
      "cell_type": "code",
      "source": [
        "import openpyxl\n",
        "wb = openpyxl.load_workbook('관리종목.xlsx')\n",
        "sheet = wb['종목']\n",
        "\n",
        "new_rows = list(sheet.rows)[1:]\n",
        "\n",
        "for row in new_rows:\n",
        "  print(row[0].value, row[1].value)"
      ],
      "metadata": {
        "colab": {
          "base_uri": "https://localhost:8080/"
        },
        "id": "y2_AZlql4mW7",
        "outputId": "f4811058-51d7-480f-dde2-02f724e475c7"
      },
      "execution_count": null,
      "outputs": [
        {
          "output_type": "stream",
          "name": "stdout",
          "text": [
            "삼성전자 005930\n",
            "LG에너지솔루션 373220\n",
            "SK하이닉스 000660\n",
            "NAVER 035420\n",
            "삼성바이오로직스 207940\n",
            "삼성전자우 005935\n",
            "카카오 035720\n",
            "삼성SDI 006400\n",
            "현대차 005380\n",
            "LG화학 051910\n",
            "기아 000270\n",
            "POSCO홀딩스 005490\n",
            "KB금융 105560\n",
            "카카오뱅크 323410\n",
            "셀트리온 068270\n",
            "신한지주 055550\n",
            "삼성물산 028260\n",
            "현대모비스 012330\n",
            "SK이노베이션 096770\n",
            "LG전자 066570\n",
            "카카오페이 377300\n",
            "SK 034730\n",
            "한국전력 015760\n",
            "크래프톤 259960\n",
            "하나금융지주 086790\n",
            "LG생활건강 051900\n",
            "HMM 011200\n",
            "삼성생명 032830\n",
            "하이브 352820\n",
            "두산중공업 034020\n",
            "SK텔레콤 017670\n",
            "삼성전기 009150\n",
            "SK바이오사이언스 302440\n",
            "LG 003550\n",
            "S-Oil 010950\n",
            "고려아연 010130\n",
            "KT&G 033780\n",
            "우리금융지주 316140\n",
            "대한항공 003490\n",
            "삼성에스디에스 018260\n",
            "현대중공업 329180\n",
            "엔씨소프트 036570\n",
            "삼성화재 000810\n",
            "아모레퍼시픽 090430\n",
            "KT 030200\n",
            "포스코케미칼 003670\n",
            "넷마블 251270\n",
            "SK아이이테크놀로지 361610\n",
            "LG이노텍 011070\n",
            "기업은행 024110\n"
          ]
        }
      ]
    }
  ]
}